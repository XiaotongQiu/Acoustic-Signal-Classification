{
 "cells": [
  {
   "cell_type": "code",
   "execution_count": 1,
   "metadata": {
    "collapsed": true
   },
   "outputs": [],
   "source": [
    "import filecmp\n",
    "import os\n",
    "import subprocess\n",
    "import tempfile\n",
    "import numpy\n",
    "import scipy\n",
    "from scipy.io import wavfile\n",
    "\n",
    "path_to_ESC = './ESC-50-master/audio'\n",
    "os.listdir(path_to_ESC)\n",
    "\n",
    "y = [12, 4, 7]\n",
    "\n",
    "X_data = []\n",
    "y_data = []\n",
    "\n",
    "for file in os.listdir(path_to_ESC):\n",
    "    if file.split('.')[1] == 'wav':\n",
    "        if int(file.split('.')[0].split('-')[-1]) in y:\n",
    "            rate, audio = wavfile.read(path_to_ESC +'/'+ file)\n",
    "            X_data.append(audio)\n",
    "            y_data.append(file.split('.')[0].split('-')[-1])\n",
    "            "
   ]
  },
  {
   "cell_type": "code",
   "execution_count": 2,
   "metadata": {},
   "outputs": [
    {
     "data": {
      "text/plain": [
       "array([128, 105, 125, ...,  16,   2,  -4], dtype=int16)"
      ]
     },
     "execution_count": 2,
     "metadata": {},
     "output_type": "execute_result"
    }
   ],
   "source": [
    "X_data[0]"
   ]
  },
  {
   "cell_type": "code",
   "execution_count": 3,
   "metadata": {},
   "outputs": [
    {
     "data": {
      "image/png": "[encoded data removed]",
      "text/plain": [
       "<matplotlib.figure.Figure at 0x1f6c98f8da0>"
      ]
     },
     "metadata": {},
     "output_type": "display_data"
    }
   ],
   "source": [
    "import matplotlib.pyplot as plt\n",
    "\n",
    "plt.plot(X_data[1])\n",
    "plt.show()"
   ]
  },
  {
   "cell_type": "markdown",
   "metadata": {},
   "source": [
    "## Dict. train "
   ]
  },
  {
   "cell_type": "code",
   "execution_count": 4,
   "metadata": {},
   "outputs": [],
   "source": [
    "#!/usr/bin/env python3\n",
    "# -*- coding: utf-8 -*-\n",
    "\"\"\"\n",
    "Created on Sat May  5 16:02:23 2018\n",
    "@author: qcat\n",
    "\"\"\"\n",
    "import time\n",
    "import filecmp\n",
    "import os\n",
    "import subprocess\n",
    "import tempfile\n",
    "import numpy as np\n",
    "import scipy\n",
    "from scipy.io import wavfile\n",
    "import matplotlib.pyplot as plt\n",
    "from sklearn.decomposition import DictionaryLearning\n",
    "from scipy.fftpack import dct\n",
    "from sklearn.linear_model import OrthogonalMatchingPursuit\n",
    "\n",
    "def Generate_Y(X,n_features):\n",
    "    X_f = []\n",
    "    for i in X:\n",
    "#        X_f.append(np.fft.fft(i))\n",
    "        X_f.append(dct(i))\n",
    "    Y = np.empty([256,861])\n",
    "    for i in range(40):\n",
    "        x = np.array(X_f[i])\n",
    "        n = np.floor(x.shape[0]/n_features)\n",
    "        x = x[:int(n * n_features)]\n",
    "        x = np.reshape(x,(256,-1))\n",
    "        Y = np.hstack((Y,x))\n",
    "    Y = Y[:,861:]\n",
    "#    print(Y.shape)\n",
    "    return Y\n",
    "\n",
    "path_to_ESC = './ESC-50-master/audio'\n",
    "#os.listdir(path_to_ESC)\n",
    "\n",
    "y = [45,22] # train vs clapping\n",
    "X = [[] for i in range(len(y))]\n",
    "\n",
    "X_data = []\n",
    "y_data = []\n",
    "X_1 = []\n",
    "X_2 = []\n",
    "\n",
    "for file in os.listdir(path_to_ESC):\n",
    "    if file.split('.')[1] == 'wav':\n",
    "        if int(file.split('.')[0].split('-')[-1]) in y:\n",
    "            rate, audio = wavfile.read(path_to_ESC +'/'+ file)\n",
    "            #X_data.append(audio)\n",
    "            #y_data.append(file.split('.')[0].split('-')[-1])\n",
    "            for ite in range(len(y)):\n",
    "                if int(file.split('.')[0].split('-')[-1]) == y[ite]:\n",
    "                    X[ite].append(audio)\n",
    "                \n",
    "\n"
   ]
  },
  {
   "cell_type": "code",
   "execution_count": 5,
   "metadata": {},
   "outputs": [
    {
     "data": {
      "image/png": "[encoded data removed]",
      "text/plain": [
       "<matplotlib.figure.Figure at 0x1f6cf137588>"
      ]
     },
     "metadata": {},
     "output_type": "display_data"
    }
   ],
   "source": [
    "import matplotlib.pyplot as plt\n",
    "\n",
    "plt.plot(X[1][0])\n",
    "plt.show()"
   ]
  },
  {
   "cell_type": "code",
   "execution_count": 6,
   "metadata": {},
   "outputs": [
    {
     "name": "stdout",
     "output_type": "stream",
     "text": [
      "Y_train.shape:  (34440, 256)\n",
      "Sun May  6 03:38:53 2018\n",
      "init D:  (500, 256)\n",
      "(256, 500)\n",
      "Sun May  6 06:05:42 2018\n"
     ]
    }
   ],
   "source": [
    "n = 40\n",
    "\n",
    "Y = Generate_Y(X[1],256)\n",
    "Y_train = Y[:,0:861*n].T\n",
    "print('Y_train.shape: ', Y_train.shape)\n",
    "print(time.asctime())\n",
    "\n",
    "if os.path.exists('./Dict_clapping.npy'):\n",
    "    D = np.load('./Dict_clapping.npy')\n",
    "    D = D.T\n",
    "    print('init D: ', D.shape)\n",
    "\n",
    "    dict = DictionaryLearning(n_components = 500,max_iter = 3,transform_n_nonzero_coefs=5, n_jobs = 4, \n",
    "                              fit_algorithm = 'lars',\n",
    "                             transform_algorithm = 'lasso_lars'\n",
    "                              , dict_init = D\n",
    "                             )\n",
    "else:\n",
    "    dict = DictionaryLearning(n_components = 500,max_iter = 3,transform_n_nonzero_coefs=5, n_jobs = 4, \n",
    "                              fit_algorithm = 'lars',\n",
    "                             transform_algorithm = 'lasso_lars'\n",
    "                             )\n",
    "\n",
    "D = dict.fit(Y_train).components_\n",
    "D = D.T\n",
    "print(D.shape)\n",
    "np.save('./Dict_clapping.npy',D)\n",
    "print(time.asctime())"
   ]
  },
  {
   "cell_type": "code",
   "execution_count": 7,
   "metadata": {},
   "outputs": [
    {
     "data": {
      "image/png": "[encoded data removed]",
      "text/plain": [
       "<matplotlib.figure.Figure at 0x1f6cea46f60>"
      ]
     },
     "metadata": {},
     "output_type": "display_data"
    }
   ],
   "source": [
    "Y_test = Y[:,0:861]\n",
    "omp = OrthogonalMatchingPursuit(n_nonzero_coefs=5)\n",
    "omp.fit(D,Y_test)\n",
    "coef = omp.coef_\n",
    "#idx_r, = coef.nonzero()\n",
    "#plt.stem(idx_r, coef[idx_r])\n",
    "plt.subplot(221)\n",
    "t=coef[0,:]\n",
    "yy = np.matmul(D,t)\n",
    "plt.plot(yy)\n",
    "plt.title('1')\n",
    "plt.subplot(222)\n",
    "plt.plot(Y_test[:,0])\n",
    "plt.title('2')\n",
    "plt.subplot(223)\n",
    "t=coef[1,:]\n",
    "yy = np.matmul(D,t)\n",
    "plt.plot(yy)\n",
    "plt.title('3')\n",
    "plt.subplot(224)\n",
    "plt.plot(Y_test[:,1])\n",
    "plt.title('4')\n",
    "plt.show()"
   ]
  },
  {
   "cell_type": "code",
   "execution_count": 8,
   "metadata": {},
   "outputs": [
    {
     "name": "stdout",
     "output_type": "stream",
     "text": [
      "Y_train.shape:  (34440, 256)\n",
      "Sun May  6 06:05:44 2018\n",
      "init D:  (500, 256)\n",
      "(256, 500)\n",
      "Sun May  6 07:53:51 2018\n"
     ]
    }
   ],
   "source": [
    "n = 40\n",
    "\n",
    "Y = Generate_Y(X[0],256)\n",
    "Y_train = Y[:,0:861*n].T\n",
    "print('Y_train.shape: ', Y_train.shape)\n",
    "print(time.asctime())\n",
    "\n",
    "if os.path.exists('./Dict_train.npy'):\n",
    "    D = np.load('./Dict_train.npy')\n",
    "    D = D.T\n",
    "    print('init D: ', D.shape)\n",
    "\n",
    "    dict = DictionaryLearning(n_components = 500,max_iter = 3,transform_n_nonzero_coefs=5, n_jobs = 4, \n",
    "                              fit_algorithm = 'lars',\n",
    "                             transform_algorithm = 'lasso_lars'\n",
    "                              , dict_init = D\n",
    "                             )\n",
    "else:\n",
    "    dict = DictionaryLearning(n_components = 500,max_iter = 3,transform_n_nonzero_coefs=5, n_jobs = 4, \n",
    "                              fit_algorithm = 'lars',\n",
    "                             transform_algorithm = 'lasso_lars'\n",
    "                             )\n",
    "\n",
    "D = dict.fit(Y_train).components_\n",
    "D = D.T\n",
    "print(D.shape)\n",
    "np.save('./Dict_train.npy',D)\n",
    "print(time.asctime())\n",
    "\n",
    "\n"
   ]
  },
  {
   "cell_type": "code",
   "execution_count": 12,
   "metadata": {},
   "outputs": [
    {
     "data": {
      "image/png": "[encoded data removed]",
      "text/plain": [
       "<matplotlib.figure.Figure at 0x1f6c8bc1be0>"
      ]
     },
     "metadata": {},
     "output_type": "display_data"
    }
   ],
   "source": [
    "Y_test = Y[:,0:861]\n",
    "omp = OrthogonalMatchingPursuit(n_nonzero_coefs=5)\n",
    "omp.fit(D,Y_test)\n",
    "coef = omp.coef_\n",
    "#idx_r, = coef.nonzero()\n",
    "#plt.stem(idx_r, coef[idx_r])\n",
    "plt.subplot(221)\n",
    "t=coef[0,:]\n",
    "yy = np.matmul(D,t)\n",
    "plt.plot(yy)\n",
    "plt.title('1')\n",
    "plt.subplot(222)\n",
    "plt.plot(Y_test[:,0])\n",
    "plt.title('2')\n",
    "plt.subplot(223)\n",
    "t=coef[1,:]\n",
    "yy = np.matmul(D,t)\n",
    "plt.plot(yy)\n",
    "plt.title('3')\n",
    "plt.subplot(224)\n",
    "plt.plot(Y_test[:,1])\n",
    "plt.title('4')\n",
    "plt.show()"
   ]
  },
  {
   "cell_type": "code",
   "execution_count": 10,
   "metadata": {},
   "outputs": [
    {
     "name": "stdout",
     "output_type": "stream",
     "text": [
      "(256, 500)\n",
      "(256, 500)\n"
     ]
    }
   ],
   "source": [
    "D = np.load('./Dict_train.npy')\n",
    "print(D.shape)\n",
    "D = np.load('./Dict_clapping.npy')\n",
    "print(D.shape)"
   ]
  },
  {
   "cell_type": "code",
   "execution_count": 11,
   "metadata": {},
   "outputs": [
    {
     "name": "stdout",
     "output_type": "stream",
     "text": [
      "Sun May  6 07:53:52 2018\n"
     ]
    }
   ],
   "source": [
    "import time\n",
    "print(time.asctime())"
   ]
  },
  {
   "cell_type": "code",
   "execution_count": null,
   "metadata": {
    "collapsed": true
   },
   "outputs": [],
   "source": []
  }
 ],
 "metadata": {
  "kernelspec": {
   "display_name": "Python 3",
   "language": "python",
   "name": "python3"
  },
  "language_info": {
   "codemirror_mode": {
    "name": "ipython",
    "version": 3
   },
   "file_extension": ".py",
   "mimetype": "text/x-python",
   "name": "python",
   "nbconvert_exporter": "python",
   "pygments_lexer": "ipython3",
   "version": "3.6.1"
  }
 },
 "nbformat": 4,
 "nbformat_minor": 2
}
