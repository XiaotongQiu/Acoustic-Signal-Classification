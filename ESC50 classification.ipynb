{
 "cells": [
  {
   "cell_type": "code",
   "execution_count": 24,
   "metadata": {},
   "outputs": [],
   "source": [
    "import filecmp\n",
    "import os\n",
    "import subprocess\n",
    "import tempfile\n",
    "import numpy\n",
    "import scipy\n",
    "from scipy.io import wavfile\n",
    "\n",
    "path_to_ESC = './ESC-50-master/audio'\n",
    "os.listdir(path_to_ESC)\n",
    "\n",
    "y = [12, 4, 7]\n",
    "\n",
    "X_data = []\n",
    "y_data = []\n",
    "\n",
    "for file in os.listdir(path_to_ESC):\n",
    "    if file.split('.')[1] == 'wav':\n",
    "        if int(file.split('.')[0].split('-')[-1]) in y:\n",
    "            rate, audio = wavfile.read(path_to_ESC +'/'+ file)\n",
    "            X_data.append(audio)\n",
    "            y_data.append(file.split('.')[0].split('-')[-1])\n",
    "            "
   ]
  },
  {
   "cell_type": "code",
   "execution_count": 25,
   "metadata": {},
   "outputs": [
    {
     "data": {
      "text/plain": [
       "array([128, 105, 125, ...,  16,   2,  -4], dtype=int16)"
      ]
     },
     "execution_count": 25,
     "metadata": {},
     "output_type": "execute_result"
    }
   ],
   "source": [
    "X_data[0]"
   ]
  },
  {
   "cell_type": "code",
   "execution_count": 26,
   "metadata": {},
   "outputs": [
    {
     "data": {
      "image/png": "[encoded data removed]",
      "text/plain": [
       "<matplotlib.figure.Figure at 0x181afdc8d0>"
      ]
     },
     "metadata": {},
     "output_type": "display_data"
    }
   ],
   "source": [
    "import matplotlib.pyplot as plt\n",
    "\n",
    "plt.plot(X_data[1])\n",
    "plt.show()"
   ]
  },
  {
   "cell_type": "code",
   "execution_count": null,
   "metadata": {},
   "outputs": [],
   "source": []
  }
 ],
 "metadata": {
  "kernelspec": {
   "display_name": "Python 3",
   "language": "python",
   "name": "python3"
  },
  "language_info": {
   "codemirror_mode": {
    "name": "ipython",
    "version": 3
   },
   "file_extension": ".py",
   "mimetype": "text/x-python",
   "name": "python",
   "nbconvert_exporter": "python",
   "pygments_lexer": "ipython3",
   "version": "3.6.4"
  }
 },
 "nbformat": 4,
 "nbformat_minor": 2
}
